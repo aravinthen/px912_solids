{
 "cells": [
  {
   "cell_type": "markdown",
   "metadata": {},
   "source": [
    "# PX912: Solid Mechanics"
   ]
  },
  {
   "cell_type": "markdown",
   "metadata": {},
   "source": [
    "## Workshop 4\n",
    "\n",
    "Last week, we considered a simple finite element problem in 1D. This week, instead we will look at a 2D problem of load applied to a trapezoidal panel fixed to a wall. I have tried to break the problem down into smaller steps to help you understand the process.\n",
    "\n",
    "### Please run the cell below!\n",
    "This cell loads the core library written for this module. The core library contains hints, solution checking and grading. \n",
    "\n",
    "Make sure that the output of the previous cell is $\\texttt{Library Loaded!}$. "
   ]
  },
  {
   "cell_type": "code",
   "execution_count": null,
   "metadata": {},
   "outputs": [],
   "source": [
    "import sys, os\n",
    "sys.path.insert(0, os.getcwd()+'grader')\n",
    "from grader import workshop4 as ws4\n",
    "from grader import practice\n",
    "\n",
    "grader = ws4.Workshop4()"
   ]
  },
  {
   "cell_type": "markdown",
   "metadata": {},
   "source": [
    "Imports as usual:"
   ]
  },
  {
   "cell_type": "code",
   "execution_count": null,
   "metadata": {},
   "outputs": [],
   "source": [
    "# SymPy Library: Symbolic Python\n",
    "import sympy as sym\n",
    "\n",
    "# Tell sympy to print things nicely\n",
    "sym.init_printing()\n",
    "\n",
    "# Matplotlib for plotting\n",
    "import matplotlib.pyplot as plt\n",
    "\n",
    "# Numpy for numerics\n",
    "import numpy as np"
   ]
  },
  {
   "cell_type": "markdown",
   "metadata": {},
   "source": [
    "## A simplified summary of the Finite Element Method\n",
    "FEM is a masterclass in numerical analysis. The individual components appear disparate, but fit together to form a powerful technique. Let's walk through the finite element method approach, starting from the very fundamentals.\n",
    "\n",
    "### The strong form\n",
    "A problem is first derived in terms of a differential equation. For an elastic bar of length $l$ in one dimension, one would write the governing equation as\n",
    "$$\n",
    "\\frac{\\text{d}}{\\text{d}x}\\left( A E \\frac{\\text{d}u}{\\text{d}x} \\right) + b = 0,\n",
    "$$\n",
    "with boundary conditions being\n",
    "$$\n",
    "\\sigma(0) = \\left( E \\frac{\\text{d}u}{\\text{d}x}\\right) = -\\bar{t} \\\\\n",
    "u(l) = \\bar{u}.\n",
    "$$\n",
    "\n",
    "Here, $A$ and $E$ are material parameters, $u$ is the displacement, $b$ is the body force, $\\bar{t}$ is the traction boundary condition and $\\bar{u}$ is the prescribed displacement.\n",
    "\n",
    "### The weak form\n",
    "You can actually solve the above equations using a simple finite element approach as it is (see *Fish and Belytschko*). However, for multidimensional problems and more complex elements, this will not work. For this we motivate the *weak form* of the differential equation. The problem becomes the following:\n",
    "\n",
    "Find $u(x)$ among the smooth trial solutions $u\\in U$ such that \n",
    "$$\n",
    "\\left. \\int_0^l \\left(\\frac{\\text{d}w}{\\text{d}x}\\right)^T AE \\frac{\\text{d}u}{\\text{d}x} \\text{d}x - \\int_0^l w^T b \\text{d}x - w^T \\bar{t}A) \\ \\right|_{ \\ x=0} = 0 \n",
    "\\qquad\n",
    "\\forall w(x) \\text{ satisfying some boundary condition.}\n",
    "$$\n",
    "The weight (or test) functions $w$ are completely arbitrary: this property is what is used to reduce the system into a set of linear-algebraic equations. This is a result from the theory of differential equations, where the solution of a differential equation may be constructed from a *complete* basis set. \n",
    "\n",
    "### Element interpolation\n",
    "The finite element method operates on nodes, we do not use continuous functions. We need to find a way of representing these functions in terms of matrices. We do so using *Lagrange interpolation*. This method operates by representing a function in terms of polynomials,\n",
    "\n",
    "$$\n",
    "u^e(x) = a_0 + a_1 x + a_2 x^2 + \\ ...\n",
    "$$\n",
    "Let's write this as \n",
    "$$\n",
    "u^e(x) = \n",
    "\\left[ \\begin{matrix}1 & x & x^2 & ... \\end{matrix} \\right]\n",
    "\\left[ \\begin{matrix}a_0 \\\\ a_1 \\\\ a_2 \\\\ ... \\end{matrix} \\right]\n",
    "= \n",
    "\\mathbf{p}(x)\\mathbf{a}^e\n",
    "$$\n",
    "\n",
    "Then, for multiple defined points, \n",
    "$$\n",
    "u^e(x_0^e) = a_0 + a_1 x_0^e + a_2 (x_0^e)^2 + \\ ... \\\\\n",
    "u^e(x_1^e) = a_0 + a_1 x_1^e + a_2 (x_1^e)^2 + \\ ... \\\\\n",
    "u^e(x_2^e) = a_0 + a_1 x_2^e + a_2 (x_2^e)^2 + \\ ... ,\n",
    "$$\n",
    "the system can be written as \n",
    "$$\n",
    "\\left[ \\begin{matrix} u^e_0 \\\\ u^e_1 \\\\ u^e_2 \\\\ ... \\end{matrix} \\right]\n",
    "=\n",
    "\\left[ \\begin{matrix} \n",
    "1 & x_0^e & (x_0^e)^2 & ... \\\\\n",
    "1 & x_1^e & (x_1^e)^2 & ... \\\\\n",
    "1 & x_2^e & (x_2^e)^2 & ... \\\\\n",
    "... & ... & ... & ...\n",
    "\\end{matrix} \\right]\n",
    "\\left[ \\begin{matrix} a_0 \\\\ a_1 \\\\ a_2 \\\\ ... \\end{matrix} \\right].\n",
    "$$\n",
    "We can represent this system like so,\n",
    "$$\n",
    "\\mathbf{d}^e = \\mathbf{M}^e \\mathbf{a}^e.\n",
    "$$\n",
    "Then,\n",
    "$$\n",
    "\\mathbf{a}^e = (\\mathbf{M}^e)^{-1} \\mathbf{d}^e,\n",
    "$$ \n",
    "\n",
    "and so \n",
    "$$\n",
    "u^e(x) = \\mathbf{p}(x) (\\mathbf{M}^e)^{-1}\\mathbf{d}^e  = \\mathbf{N}^e\\mathbf{d}^e\n",
    "$$\n",
    "\n",
    "Here, $\\mathbf{N}$ is a shape function. It plays a central role in FEM and can also be used to treat derivatives. Considering a two-node system where nodes are labelled with subscripts 1 and 2,\n",
    "$$\n",
    "\\mathbf{N}^e = \n",
    "\\left[ \\begin{matrix} N_1^e & N_2^e \\end{matrix} \\right] =\n",
    "\\mathbf{p}(x)(\\mathbf{M}^e)^{-1} =\n",
    "\\left[ \\begin{matrix} 1 & x \\end{matrix} \\right]\n",
    "\\left[ \\begin{matrix} x_2^e & -x_1^e \\\\ -1 & 1 \\end{matrix} \\right]\\frac{1}{l^e} = \n",
    "\\left[ \\begin{matrix} x_2^e - x & x - x_1^e \\end{matrix} \\right]\n",
    "$$\n",
    "\n",
    "Note that $l^e = x_2^e - x_1^e$ and is the length of an element that emerges from the calculation of $\\left[\\mathbf{M}^e\\right]^{-1}$ as the determinant. From this, the derivative of the shape-function can be found like so\n",
    "$$\n",
    "\\mathbf{B}^e = \n",
    "\\left[ \\begin{matrix} \\frac{\\text{d}N_1^e}{\\text{d}x} & \\frac{\\text{d}N_2^e}{\\text{d}x} \\end{matrix} \\right] = \n",
    "\\frac{1}{l^e}\\left[ \\begin{matrix} -1 & 1 \\end{matrix} \\right]\n",
    "$$\n",
    "\n",
    "Using these shape functions, we can treat the weak form of the system in the previous section. As just calculated, for trial functions $u(x)$, \n",
    "$$\n",
    "u^e \\approx \\mathbf{N}^e\\mathbf{d}^e.\n",
    "$$\n",
    "\n",
    "Likewise, using the same interpolation for our weight functions $w(x)$ (a method known as Galerkin FEM), \n",
    "$$\n",
    "w^e \\approx \\mathbf{N}^e\\mathbf{w}^e.\n",
    "$$\n",
    "\n",
    "The global solution (for when you have more than one element in your system) can then be found by simply adding together every weight function and trial solution per element.\n",
    "$$\n",
    "u(x) \\approx u^h = \\sum_{e=1}^{n_{el}} \\mathbf{N}^e \\mathbf{d}^e =\n",
    "\\left( \\sum_{e=1}^{n_{el}} \\mathbf{N}^e \\mathbf{L} \\right)\\mathbf{d} = \\mathbf{N}(x) \\mathbf{d} \\\\\n",
    "w(x) \\approx w^h = \\sum_{e=1}^{n_{el}} \\mathbf{N}^e \\mathbf{w}^e = \n",
    "\\left( \\sum_{e=1}^{n_{el}} \\mathbf{N}^e \\mathbf{L} \\right)\\mathbf{w} = \\mathbf{N}(x) \\mathbf{w}\n",
    "$$\n",
    "Here, $\\mathbf{L}$ is the scatter matrix that maps a local node to the global system and $\\mathbf{d}$ and $\\mathbf{w}$ are the global displacement and weight vectors.\n",
    "\n",
    "### System equations\n",
    "Let's substitute. We start from  \n",
    "$$\n",
    "\\left. \\int_0^l \\left(\\frac{\\text{d}w}{\\text{d}x}\\right)^T AE \\frac{\\text{d}u}{\\text{d}x} \\text{d}x - \\int_0^l w^T b \\text{d}x - w^T \\bar{t}A) \\ \\right|_{ \\ x=0} = 0,\n",
    "$$\n",
    "\n",
    "which is the continuous formulation. If we want to break this down into elements, we have to integrate over each element\n",
    "$$\n",
    "\\sum_{e=1}^{n_{el}}\n",
    "\\left\\{\n",
    "\\left. \\int_{x_1^e}^{x_2^e} \\left(\\frac{\\text{d}w^e}{\\text{d}x}\\right)^T A^e E^e \\frac{\\text{d}u^e}{\\text{d}x} \\text{d}x - \\int_{x_1^e}^{x_2^e} w^{eT} b \\text{d}x - w^{eT} \\bar{t}A^e) \\ \\right|_{ \\ x=0}\n",
    "\\right\\} = 0.\n",
    "$$\n",
    "Then, when \n",
    "$$\n",
    "u^e(x) = \\mathbf{N}^e\\mathbf{d}^e \\qquad \\frac{\\text{d}u^e}{\\text{d}x} = \\mathbf{B}^e\\mathbf{d}^e \\\\\n",
    "w^{eT}(x) = \\mathbf{N}^{eT}\\mathbf{w}^{eT} \\qquad \\left(\\frac{\\text{d}w^e}{\\text{d}x}\\right)^T = \\mathbf{d}^{eT}\\mathbf{B}^{eT},\n",
    "$$\n",
    "the full system coalesces into a signficantly more tractable\n",
    "\n",
    "$$\n",
    "\\sum_{e=1}^{n_{el}}\n",
    "\\mathbf{w}^{eT}\n",
    "\\left\\{\n",
    "\\int_{x_1^e}^{x_2^e} \\mathbf{B}^{eT}A^e E^e \\mathbf{B}^e \\text{d}x \\mathbf{d}^e - \n",
    "\\int_{x_1^e}^{x_2^e} \\mathbf{N}^{eT} b \\text{d}x - (\\mathbf{N}^{eT} A^e \\bar{t})_{x=0}\n",
    "\\right\\}\n",
    "$$\n",
    "\n",
    "This can be simplified into what might seem like a familiar form:\n",
    "\n",
    "$$\n",
    "\\sum_{e=1}^{n_{el}}\n",
    "\\mathbf{w}^{eT}\n",
    "\\left\\{\n",
    "\\mathbf{K}^e - \\mathbf{f_b}^e - \\mathbf{f_{\\text{boundary}}}\n",
    "\\right\\} =\n",
    "\\sum_{e=1}^{n_{el}}\n",
    "\\mathbf{w}^{eT}\n",
    "\\left\\{\n",
    "\\mathbf{K}^e - \\mathbf{f_e}^e\n",
    "\\right\\} = 0\n",
    "$$\n",
    "where $\\mathbf{K}^e$ is the element stiffness matrix and the latter two force calculations constitute the element external stress matrix $\\mathbf{f}^e$.\n",
    "\n",
    "Now we need to assemble the full system. Using the assembly operation (which we denote for each element using $\\mathbf{L}^e$), the above equations can be further simplified to \n",
    "$$\n",
    "\\mathbf{w}^T \n",
    "\\left( \n",
    "\\sum_{e=1}^{n_{el}}\n",
    "\\mathbf{L}^{eT} \\mathbf{K}^e \\mathbf{L}^{e} \\mathbf{d}\n",
    "-\n",
    "\\sum_{e=1}^{n_{el}}\n",
    "\\mathbf{L}^{eT}\n",
    "\\mathbf{f}^e\n",
    "\\right).\n",
    "$$\n",
    "From here, the assembled matrices can be written. The system stiffness matrix is\n",
    "$$\n",
    "\\mathbf{K} = \\sum_{e=1}^{n_{el}}\n",
    "\\mathbf{L}^{eT} \\mathbf{K}^e \\mathbf{L}^{e},\n",
    "$$\n",
    "whilst the system external force matrix is \n",
    "$$\n",
    "\\mathbf{f} = \n",
    "\\sum_{e=1}^{n_{el}}\n",
    "\\mathbf{L}^{eT}\n",
    "\\mathbf{f}^e\n",
    "$$\n",
    "\n",
    "(You don't need to use $\\mathbf{L}^e$ as a linear-algebraic operator at all: the normal way you've developed using array manipulations is more efficient).\n",
    "\n",
    "Our problem is thus reduced to:\n",
    "$$\n",
    "\\mathbf{w}^T (\\mathbf{K}\\mathbf{d} - \\mathbf{f}) = 0 \\qquad \\forall w(x) \\text{ satisfying some boundary condition.}\n",
    "$$\n",
    "\n",
    "For more detail, please refer to your lecture notes.\n",
    "\n",
    "### Two dimensional considerations\n",
    "The above treatment is in one dimension. To consider two-dimensional problems, one must use *isoparametric elements*. \n",
    "* There are now twice as many degrees of freedom. This will affect the sizes of your vectors and matrices.\n",
    "* Interpolation occurs between multiple varibles.\n",
    "* Linear differential operators are now replaced with gradient operators (in two dimensions).\n"
   ]
  },
  {
   "cell_type": "markdown",
   "metadata": {},
   "source": [
    "## Question 1\n",
    "Note that in the previous treatment, definitions for $\\mathbf{K}^e$ and $\\mathbf{f}^e$ require integration. For most problems, this integration process must be carried out numerically. Here we'll use Gauss quadrature in order to do this.\n",
    "\n",
    "Implement Gauss quadrature to obtain exact values for the following\n",
    "integrals, and verify by analytical integration.\n",
    "\n",
    "**a)** \n",
    "$$\n",
    "I_a = \\int^{1}_{-1} \\left( \\xi^4 + 2 \\xi^2 \\right) \\text{d}\\xi\n",
    "$$"
   ]
  },
  {
   "cell_type": "code",
   "execution_count": null,
   "metadata": {},
   "outputs": [],
   "source": [
    "numerical_a = ...\n",
    "    \n",
    "print('Numerical result is: ', numerical_a)\n",
    "\n",
    "exact_a = ...\n",
    "\n",
    "print('Exact result is: ', exact_a)"
   ]
  },
  {
   "cell_type": "code",
   "execution_count": null,
   "metadata": {},
   "outputs": [],
   "source": [
    "# HINT AND SOLUTION\n",
    "# grader.hint1a()\n",
    "grader.check1a(numerical_a, exact_a)"
   ]
  },
  {
   "cell_type": "markdown",
   "metadata": {},
   "source": [
    "**b)** \n",
    "$$\n",
    "I_b = \\int^{4}_{0} \\left( x^2 + 1 \\right) \\text{d}x\n",
    "$$"
   ]
  },
  {
   "cell_type": "code",
   "execution_count": null,
   "metadata": {},
   "outputs": [],
   "source": [
    "numerical_b = ...\n",
    "\n",
    "print('Numerical result is: ', numerical_b)\n",
    "\n",
    "exact_b = ...\n",
    "\n",
    "print('Exact result is: ', exact_b)"
   ]
  },
  {
   "cell_type": "code",
   "execution_count": null,
   "metadata": {},
   "outputs": [],
   "source": [
    "# HINT AND SOLUTION\n",
    "# grader.hint1b()\n",
    "grader.check1b(numerical_b, exact_b)"
   ]
  },
  {
   "cell_type": "markdown",
   "metadata": {},
   "source": [
    "## Question 2\n",
    "We consider a linear elasticity problem on a trapezoidal panel domain, as shown below:\n",
    "\n",
    "<img src=\"grader/pictures/workshop4.png\" alt=\"Drawing\" style=\"width: 800px;\"/>\n",
    "\n",
    "The panel is made of a material with Young’s modulus\n",
    "$E =30$ MPa and Poisson’s ratio $\\nu=0.3$. Plane stress conditions are\n",
    "assumed. The problem is discretised with a linear quadrilateral element.\n",
    "Calculate strains and stresses at element integration (Gauss) points using\n",
    "the finite-element approach."
   ]
  },
  {
   "cell_type": "markdown",
   "metadata": {},
   "source": [
    "### Inputs"
   ]
  },
  {
   "cell_type": "markdown",
   "metadata": {},
   "source": [
    "First, specify the elasticity matrix for this problem, using the notes to help."
   ]
  },
  {
   "cell_type": "code",
   "execution_count": null,
   "metadata": {},
   "outputs": [],
   "source": [
    "def Plane_Stress_C(E, nu):\n",
    "    ..."
   ]
  },
  {
   "cell_type": "code",
   "execution_count": null,
   "metadata": {},
   "outputs": [],
   "source": [
    "E = 30e6\n",
    "nu = 0.3\n",
    "\n",
    "ps = Plane_Stress_C(E, nu)\n",
    "print(ps)"
   ]
  },
  {
   "cell_type": "code",
   "execution_count": null,
   "metadata": {},
   "outputs": [],
   "source": [
    "# HINT AND SOLUTION\n",
    "# grader.hint2ai()\n",
    "grader.check2ai(ps)"
   ]
  },
  {
   "cell_type": "markdown",
   "metadata": {},
   "source": [
    "Identify the **fixed displacements** within the global displacement vector. Which indices of the vector below will have zero value?\n",
    "\n",
    "$$\n",
    "\\mathbf{d}^e = [d^e_{1(1)}, d^e_{2(1)}, d^e_{1(2)},d^e_{2(2)}, d^e_{1(3)}, d^e_{2(3)}, d^e_{1(4)}, d^e_{2(4)}] \n",
    "$$"
   ]
  },
  {
   "cell_type": "code",
   "execution_count": null,
   "metadata": {},
   "outputs": [],
   "source": [
    "# YOUR CODE HERE\n",
    "fixed_disp = ..."
   ]
  },
  {
   "cell_type": "code",
   "execution_count": null,
   "metadata": {},
   "outputs": [],
   "source": [
    "# HINT AND SOLUTION\n",
    "# grader.hint2aii()\n",
    "grader.check2aii(fixed_disp)"
   ]
  },
  {
   "cell_type": "markdown",
   "metadata": {},
   "source": [
    "We will also need the nodal force vector, which takes the form.\n",
    "\n",
    "$$\n",
    "\\mathbf{f}^e = [f^e_{1(1)}, f^e_{2(1)}, f^e_{1(2)},f^e_{2(2)}, f^e_{1(3)}, f^e_{2(3)}, f^e_{1(4)}, f^e_{2(4)}] \n",
    "$$\n",
    "This we will specify later."
   ]
  },
  {
   "cell_type": "markdown",
   "metadata": {},
   "source": [
    "Let's get the coordinate matrix, or the mapping between the normalised coordinates and the real coordinates. When running the real calculation, you probably don't need a function to automatically translate points. However, you need the mapping function to calculate important quantities - it is always useful to put it in function form."
   ]
  },
  {
   "cell_type": "code",
   "execution_count": null,
   "metadata": {},
   "outputs": [],
   "source": [
    "def xf(xi, eta):\n",
    "    ...\n",
    "\n",
    "def yf(xi, eta):\n",
    "    ..."
   ]
  },
  {
   "cell_type": "code",
   "execution_count": null,
   "metadata": {
    "scrolled": true
   },
   "outputs": [],
   "source": [
    "print(xf(-1,-1), yf(-1,-1))\n",
    "print(xf(1,-1), yf(1,-1))\n",
    "print(xf(-1,1), yf(-1,1))\n",
    "print(xf(1,1), yf(1,1))"
   ]
  },
  {
   "cell_type": "code",
   "execution_count": null,
   "metadata": {},
   "outputs": [],
   "source": [
    "# HINT AND SOLUTION\n",
    "# grader.hint2aiii()\n",
    "grader.check2aiii(xf, yf)"
   ]
  },
  {
   "cell_type": "markdown",
   "metadata": {},
   "source": [
    "Now let's specify the shape functions. There should be one for each node"
   ]
  },
  {
   "cell_type": "code",
   "execution_count": null,
   "metadata": {},
   "outputs": [],
   "source": [
    "# YOUR CODE HERE\n",
    "# you might like to write a function that calculates all of these at once\n",
    "N_1 = 0\n",
    "N_2 = 0\n",
    "N_3 = 0\n",
    "N_4 = 0"
   ]
  },
  {
   "cell_type": "code",
   "execution_count": null,
   "metadata": {},
   "outputs": [],
   "source": [
    "# HINT\n",
    "# grader.hint2aiv()\n",
    "grader.check2aiv(N)"
   ]
  },
  {
   "cell_type": "markdown",
   "metadata": {},
   "source": [
    "### Finite Element Matrices"
   ]
  },
  {
   "cell_type": "markdown",
   "metadata": {},
   "source": [
    "We should now specify the strain-displacement matrix\n",
    "\n",
    "$$\n",
    "\\mathbf{B}^e = [\\mathbf{B}^e_1, \\mathbf{B}^e_2, \\mathbf{B}^e_3, \\mathbf{B}^e_4]\n",
    "$$"
   ]
  },
  {
   "cell_type": "code",
   "execution_count": null,
   "metadata": {},
   "outputs": [],
   "source": [
    "def Disp_Strain_B(real_coords, xi, eta):\n",
    "    ..."
   ]
  },
  {
   "cell_type": "code",
   "execution_count": null,
   "metadata": {},
   "outputs": [],
   "source": [
    "# HINT\n",
    "# grader.hint2bi()"
   ]
  },
  {
   "cell_type": "markdown",
   "metadata": {},
   "source": [
    "And the Jacobian:\n",
    "\n",
    "$$\n",
    "\\mathbf{J}^e =\n",
    "\\begin{bmatrix}\n",
    "\\frac{\\partial x_1}{\\partial \\xi} & \\frac{\\partial x_2}{\\partial \\xi} \\\\\n",
    "\\frac{\\partial x_1}{\\partial \\eta} & \\frac{\\partial x_2}{\\partial \\eta}\n",
    "\\end{bmatrix}\n",
    "$$"
   ]
  },
  {
   "cell_type": "code",
   "execution_count": null,
   "metadata": {},
   "outputs": [],
   "source": [
    "def J(xi, eta):\n",
    "    ...\n",
    "\n",
    "def J_inv(xi, eta):\n",
    "    ..."
   ]
  },
  {
   "cell_type": "code",
   "execution_count": null,
   "metadata": {},
   "outputs": [],
   "source": [
    "# HINT\n",
    "# grader.hint2bii()"
   ]
  },
  {
   "cell_type": "markdown",
   "metadata": {},
   "source": [
    "Then at each integration point we need to build the stiffness matrix from the Jacobian, the strain-displacement matrix, and the elasticity matrix:\n",
    "\n",
    "$$\n",
    "\\mathbf{K}^e(\\xi_i, \\eta_i) = {\\mathbf{B}^e}^T(\\xi_i, \\eta_i)) \\mathbf{C} \\mathbf{B}^e(\\xi_i, \\eta_i) \\det(\\mathbf{J}^e(\\xi_i, \\eta_i)\n",
    "$$"
   ]
  },
  {
   "cell_type": "code",
   "execution_count": null,
   "metadata": {},
   "outputs": [],
   "source": [
    "def keval(real_coords, Ce):\n",
    "    ..."
   ]
  },
  {
   "cell_type": "code",
   "execution_count": null,
   "metadata": {},
   "outputs": [],
   "source": [
    "# HINT\n",
    "# grader.hint2biii()"
   ]
  },
  {
   "cell_type": "markdown",
   "metadata": {},
   "source": [
    "These should then be assembled into the elemental stiffness matrix:\n",
    "\n",
    "$$\n",
    "\\mathbf{K}^e = \\sum_i \\sum_j \\mathbf{K}(\\xi_i, \\eta_j)\n",
    "$$"
   ]
  },
  {
   "cell_type": "code",
   "execution_count": null,
   "metadata": {},
   "outputs": [],
   "source": [
    "# YOUR CODE HERE\n",
    "#Boundary conditions\n",
    "coords = ...\n",
    "\n",
    "# Calculate element stiffness matrix\n",
    "C = ...\n",
    "ke = ...\n",
    "\n",
    "# Remove components of the stiffness matrix that correspond to zero DOFs\n",
    "\n",
    "print(ke)"
   ]
  },
  {
   "cell_type": "code",
   "execution_count": null,
   "metadata": {},
   "outputs": [],
   "source": [
    "# HINT\n",
    "grader.check2biii(ke)"
   ]
  },
  {
   "cell_type": "markdown",
   "metadata": {},
   "source": [
    "Almost there! Now we add the external loads into the nodal force vector:\n",
    "\n",
    "$$\n",
    "\\mathbf{f}^e = \\int_{\\Gamma_{14}}{\\mathbf{N}^e}^T \\bar{\\mathbf{t}} \\, \\text{d}\\Gamma\n",
    "$$"
   ]
  },
  {
   "cell_type": "code",
   "execution_count": null,
   "metadata": {},
   "outputs": [],
   "source": [
    "# Applied loads - define the RHS load vector \n",
    "fext_top = ...\n",
    "\n",
    "# create RHS vector\n",
    "f_e = ..."
   ]
  },
  {
   "cell_type": "code",
   "execution_count": null,
   "metadata": {},
   "outputs": [],
   "source": [
    "# HINT\n",
    "# grader.hint2biv()\n",
    "grader.check2biv(f_e)"
   ]
  },
  {
   "cell_type": "markdown",
   "metadata": {},
   "source": [
    "### Solution\n",
    "\n",
    "Now we need to reduce the overall system of equations and solve for the displacements."
   ]
  },
  {
   "cell_type": "code",
   "execution_count": null,
   "metadata": {
    "scrolled": true
   },
   "outputs": [],
   "source": [
    "# Calculate non-zero nodal displacements\n",
    "ue = ...\n",
    "\n",
    "# Create the global nodal displacement vector \n",
    "d_e = ...\n",
    "print(d_e)"
   ]
  },
  {
   "cell_type": "code",
   "execution_count": null,
   "metadata": {},
   "outputs": [],
   "source": [
    "# HINT\n",
    "# grader.hint2ci()\n",
    "grader.check2ci(d_e)"
   ]
  },
  {
   "cell_type": "code",
   "execution_count": null,
   "metadata": {},
   "outputs": [],
   "source": [
    "# Plot element deformation (nodal displacements)\n",
    "sdef=10000\n",
    "\n",
    "plt.plot(coords[:, 0],\n",
    "         coords[:, 1], 'sk')\n",
    "plt.plot(coords[:, 0] + sdef*d_e[0:2*len(coords)-1:2],\n",
    "         coords[:, 1] + sdef*d_e[1:2*len(coords):2], 'or')\n",
    "\n",
    "for i in range(len(coords)):\n",
    "    plt.fill(coords[:, 0],\n",
    "             coords[:, 1], edgecolor='k', fill=False)\n",
    "    plt.fill(coords[:, 0] + sdef*d_e[0:2*len(coords)-1:2],\n",
    "             coords[:, 1] + sdef*d_e[1:2*len(coords):2], edgecolor='r', fill=False)\n",
    "plt.show()"
   ]
  },
  {
   "cell_type": "markdown",
   "metadata": {},
   "source": [
    "We can then solve for the strains at the four Gauss points:\n",
    "$$\n",
    "\\varepsilon^e(\\xi_i, \\eta_j) = \\mathbf{B}^e(\\xi_i, \\eta_j) \\mathbf{d}^e = [\\varepsilon^e_{11}, \\varepsilon^e_{22}, \\gamma^e_{12}]^T\n",
    "$$"
   ]
  },
  {
   "cell_type": "code",
   "execution_count": null,
   "metadata": {},
   "outputs": [],
   "source": [
    "# YOUR CODE HERE\n",
    "\n",
    "def strains(real_coords, de):\n",
    "    ...\n",
    "        \n",
    "strain_vals = ...\n",
    "print(strain_vals)"
   ]
  },
  {
   "cell_type": "code",
   "execution_count": null,
   "metadata": {},
   "outputs": [],
   "source": [
    "# HINT\n",
    "# grader.hint2cii()\n",
    "grader.check2cii(strain_vals)"
   ]
  },
  {
   "cell_type": "markdown",
   "metadata": {},
   "source": [
    "And similarly the stresses:\n",
    "\n",
    "$$\n",
    "\\sigma^e(\\xi_i, \\eta_j) = \\mathbf{C}\\varepsilon^e(\\xi_i, \\eta_j) = [\\sigma^e_{11}, \\sigma^e_{22}, \\sigma^e_{12}]^T\n",
    "$$\n",
    "\n",
    "Return the *sum* of stresses over the Gauss points."
   ]
  },
  {
   "cell_type": "code",
   "execution_count": null,
   "metadata": {},
   "outputs": [],
   "source": [
    "def sigma_vector(coords,C,de):\n",
    "    ...\n",
    "\n",
    "sigma = sigma_vector(coords,C,d_e)\n",
    "\n",
    "print(sigma)"
   ]
  },
  {
   "cell_type": "code",
   "execution_count": null,
   "metadata": {},
   "outputs": [],
   "source": [
    "# HINT\n",
    "# grader.hint2ciii()\n",
    "grader.check2ciii(sigma)"
   ]
  },
  {
   "cell_type": "markdown",
   "metadata": {},
   "source": [
    "And that completes the solution to the FE problem!"
   ]
  },
  {
   "cell_type": "markdown",
   "metadata": {},
   "source": [
    "# Results\n",
    "\n",
    "Run the box below to check your progress."
   ]
  },
  {
   "cell_type": "code",
   "execution_count": null,
   "metadata": {},
   "outputs": [],
   "source": [
    "grader.results()"
   ]
  }
 ],
 "metadata": {
  "kernelspec": {
   "display_name": "Python 3",
   "language": "python",
   "name": "python3"
  },
  "language_info": {
   "codemirror_mode": {
    "name": "ipython",
    "version": 3
   },
   "file_extension": ".py",
   "mimetype": "text/x-python",
   "name": "python",
   "nbconvert_exporter": "python",
   "pygments_lexer": "ipython3",
   "version": "3.10.6"
  },
  "toc": {
   "base_numbering": 1,
   "nav_menu": {},
   "number_sections": true,
   "sideBar": true,
   "skip_h1_title": false,
   "title_cell": "Table of Contents",
   "title_sidebar": "Contents",
   "toc_cell": false,
   "toc_position": {},
   "toc_section_display": true,
   "toc_window_display": false
  }
 },
 "nbformat": 4,
 "nbformat_minor": 4
}
