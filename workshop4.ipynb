{
 "cells": [
  {
   "cell_type": "markdown",
   "metadata": {},
   "source": [
    "# PX912: Solid Mechanics"
   ]
  },
  {
   "cell_type": "markdown",
   "metadata": {},
   "source": [
    "## Workshop 4\n",
    "\n",
    "Last week, we considered a simple finite element problem in 1D. This week, instead we will look at a 2D problem of load applied to a trapezoidal panel fixed to a wall. I have tried to break the problem down into smaller steps to help you understand the process.\n",
    "\n",
    "### Please run the cell below!\n",
    "This cell loads the core library written for this module. The core library contains hints, solution checking and grading. \n",
    "\n",
    "Make sure that the output of the previous cell is $\\texttt{Library Loaded!}$. "
   ]
  },
  {
   "cell_type": "code",
   "execution_count": null,
   "metadata": {},
   "outputs": [],
   "source": [
    "import sys, os\n",
    "sys.path.insert(0, os.getcwd()+'grader')\n",
    "from grader import workshop4 as ws4\n",
    "from grader import practice\n",
    "\n",
    "grader = ws4.Workshop4()"
   ]
  },
  {
   "cell_type": "markdown",
   "metadata": {},
   "source": [
    "Imports as usual:"
   ]
  },
  {
   "cell_type": "code",
   "execution_count": null,
   "metadata": {},
   "outputs": [],
   "source": [
    "# SymPy Library: Symbolic Python\n",
    "import sympy as sym\n",
    "\n",
    "# Tell sympy to print things nicely\n",
    "sym.init_printing()\n",
    "\n",
    "# Matplotlib for plotting\n",
    "import matplotlib.pyplot as plt\n",
    "\n",
    "# Numpy for numerics\n",
    "import numpy as np"
   ]
  },
  {
   "cell_type": "markdown",
   "metadata": {},
   "source": [
    "## Question 1\n",
    "Note that in the lecture notes, definitions for $\\mathbf{K}^e$ and $\\mathbf{f}^e$ require integration. For most problems, this integration process must be carried out numerically. Here we'll use Gauss quadrature in order to do this.\n",
    "\n",
    "Implement Gauss quadrature to obtain exact values for the following\n",
    "integrals, and verify by analytical integration.\n",
    "\n",
    "**a)** \n",
    "$$\n",
    "I_a = \\int^{1}_{-1} \\left( \\xi^4 + 2 \\xi^2 \\right) \\text{d}\\xi\n",
    "$$"
   ]
  },
  {
   "cell_type": "code",
   "execution_count": null,
   "metadata": {},
   "outputs": [],
   "source": [
    "numerical_a = ...\n",
    "    \n",
    "print('Numerical result is: ', numerical_a)\n",
    "\n",
    "exact_a = ...\n",
    "\n",
    "print('Exact result is: ', exact_a)"
   ]
  },
  {
   "cell_type": "code",
   "execution_count": null,
   "metadata": {},
   "outputs": [],
   "source": [
    "# HINT AND SOLUTION\n",
    "# grader.hint1a()\n",
    "grader.check1a(numerical_a, exact_a)"
   ]
  },
  {
   "cell_type": "markdown",
   "metadata": {},
   "source": [
    "**b)** \n",
    "$$\n",
    "I_b = \\int^{4}_{0} \\left( x^2 + 1 \\right) \\text{d}x\n",
    "$$"
   ]
  },
  {
   "cell_type": "code",
   "execution_count": null,
   "metadata": {},
   "outputs": [],
   "source": [
    "numerical_b = ...\n",
    "\n",
    "print('Numerical result is: ', numerical_b)\n",
    "\n",
    "exact_b = ...\n",
    "\n",
    "print('Exact result is: ', exact_b)"
   ]
  },
  {
   "cell_type": "code",
   "execution_count": null,
   "metadata": {},
   "outputs": [],
   "source": [
    "# HINT AND SOLUTION\n",
    "# grader.hint1b()\n",
    "grader.check1b(numerical_b, exact_b)"
   ]
  },
  {
   "cell_type": "markdown",
   "metadata": {},
   "source": [
    "## Question 2\n",
    "We consider a linear elasticity problem on a trapezoidal panel domain, as shown below:\n",
    "\n",
    "<img src=\"grader/pictures/workshop4.png\" alt=\"Drawing\" style=\"width: 800px;\"/>\n",
    "\n",
    "The panel is made of a material with Young’s modulus\n",
    "$E =30$ MPa and Poisson’s ratio $\\nu=0.3$. Plane stress conditions are\n",
    "assumed. The problem is discretised with a linear quadrilateral element.\n",
    "Calculate strains and stresses at element integration (Gauss) points using\n",
    "the finite-element approach."
   ]
  },
  {
   "cell_type": "markdown",
   "metadata": {},
   "source": [
    "### Inputs"
   ]
  },
  {
   "cell_type": "markdown",
   "metadata": {},
   "source": [
    "First, specify the elasticity matrix for this problem, using the notes to help."
   ]
  },
  {
   "cell_type": "code",
   "execution_count": null,
   "metadata": {},
   "outputs": [],
   "source": [
    "def Plane_Stress_C(E, nu):\n",
    "    ..."
   ]
  },
  {
   "cell_type": "code",
   "execution_count": null,
   "metadata": {},
   "outputs": [],
   "source": [
    "E = 30e6\n",
    "nu = 0.3\n",
    "\n",
    "ps = Plane_Stress_C(E, nu)\n",
    "print(ps)"
   ]
  },
  {
   "cell_type": "code",
   "execution_count": null,
   "metadata": {},
   "outputs": [],
   "source": [
    "# HINT AND SOLUTION\n",
    "# grader.hint2ai()\n",
    "grader.check2ai(ps)"
   ]
  },
  {
   "cell_type": "markdown",
   "metadata": {},
   "source": [
    "Identify the **fixed displacements** within the global displacement vector. Which indices of the vector below will have zero value?\n",
    "\n",
    "$$\n",
    "\\mathbf{d}^e = [d^e_{1(1)}, d^e_{2(1)}, d^e_{1(2)},d^e_{2(2)}, d^e_{1(3)}, d^e_{2(3)}, d^e_{1(4)}, d^e_{2(4)}] \n",
    "$$"
   ]
  },
  {
   "cell_type": "code",
   "execution_count": null,
   "metadata": {},
   "outputs": [],
   "source": [
    "# YOUR CODE HERE\n",
    "fixed_disp = ..."
   ]
  },
  {
   "cell_type": "code",
   "execution_count": null,
   "metadata": {},
   "outputs": [],
   "source": [
    "# HINT AND SOLUTION\n",
    "# grader.hint2aii()\n",
    "grader.check2aii(fixed_disp)"
   ]
  },
  {
   "cell_type": "markdown",
   "metadata": {},
   "source": [
    "We will also need the nodal force vector, which takes the form.\n",
    "\n",
    "$$\n",
    "\\mathbf{f}^e = [f^e_{1(1)}, f^e_{2(1)}, f^e_{1(2)},f^e_{2(2)}, f^e_{1(3)}, f^e_{2(3)}, f^e_{1(4)}, f^e_{2(4)}] \n",
    "$$\n",
    "This we will specify later."
   ]
  },
  {
   "cell_type": "markdown",
   "metadata": {},
   "source": [
    "Let's get the coordinate matrix, or the mapping between the normalised coordinates and the real coordinates. When running the real calculation, you probably don't need a function to automatically translate points. However, you need the mapping function to calculate important quantities - it is always useful to put it in function form."
   ]
  },
  {
   "cell_type": "code",
   "execution_count": null,
   "metadata": {},
   "outputs": [],
   "source": [
    "def xf(xi, eta):\n",
    "    ...\n",
    "\n",
    "def yf(xi, eta):\n",
    "    ..."
   ]
  },
  {
   "cell_type": "code",
   "execution_count": null,
   "metadata": {
    "scrolled": true
   },
   "outputs": [],
   "source": [
    "print(xf(-1,-1), yf(-1,-1))\n",
    "print(xf(1,-1), yf(1,-1))\n",
    "print(xf(-1,1), yf(-1,1))\n",
    "print(xf(1,1), yf(1,1))"
   ]
  },
  {
   "cell_type": "code",
   "execution_count": null,
   "metadata": {},
   "outputs": [],
   "source": [
    "# HINT AND SOLUTION\n",
    "# grader.hint2aiii()\n",
    "grader.check2aiii(xf, yf)"
   ]
  },
  {
   "cell_type": "markdown",
   "metadata": {},
   "source": [
    "Now let's specify the shape functions. There should be one for each node"
   ]
  },
  {
   "cell_type": "code",
   "execution_count": null,
   "metadata": {},
   "outputs": [],
   "source": [
    "# YOUR CODE HERE\n",
    "# you might like to write a function that calculates all of these at once\n",
    "N_1 = 0\n",
    "N_2 = 0\n",
    "N_3 = 0\n",
    "N_4 = 0"
   ]
  },
  {
   "cell_type": "code",
   "execution_count": null,
   "metadata": {},
   "outputs": [],
   "source": [
    "# HINT\n",
    "# grader.hint2aiv()\n",
    "grader.check2aiv(N)"
   ]
  },
  {
   "cell_type": "markdown",
   "metadata": {},
   "source": [
    "### Finite Element Matrices"
   ]
  },
  {
   "cell_type": "markdown",
   "metadata": {},
   "source": [
    "We should now specify the strain-displacement matrix\n",
    "\n",
    "$$\n",
    "\\mathbf{B}^e = [\\mathbf{B}^e_1, \\mathbf{B}^e_2, \\mathbf{B}^e_3, \\mathbf{B}^e_4]\n",
    "$$"
   ]
  },
  {
   "cell_type": "code",
   "execution_count": null,
   "metadata": {},
   "outputs": [],
   "source": [
    "def Disp_Strain_B(real_coords, xi, eta):\n",
    "    ..."
   ]
  },
  {
   "cell_type": "code",
   "execution_count": null,
   "metadata": {},
   "outputs": [],
   "source": [
    "# HINT\n",
    "# grader.hint2bi()"
   ]
  },
  {
   "cell_type": "markdown",
   "metadata": {},
   "source": [
    "And the Jacobian:\n",
    "\n",
    "$$\n",
    "\\mathbf{J}^e =\n",
    "\\begin{bmatrix}\n",
    "\\frac{\\partial x_1}{\\partial \\xi} & \\frac{\\partial x_2}{\\partial \\xi} \\\\\n",
    "\\frac{\\partial x_1}{\\partial \\eta} & \\frac{\\partial x_2}{\\partial \\eta}\n",
    "\\end{bmatrix}\n",
    "$$"
   ]
  },
  {
   "cell_type": "code",
   "execution_count": null,
   "metadata": {},
   "outputs": [],
   "source": [
    "def J(xi, eta):\n",
    "    ...\n",
    "\n",
    "def J_inv(xi, eta):\n",
    "    ..."
   ]
  },
  {
   "cell_type": "code",
   "execution_count": null,
   "metadata": {},
   "outputs": [],
   "source": [
    "# HINT\n",
    "# grader.hint2bii()"
   ]
  },
  {
   "cell_type": "markdown",
   "metadata": {},
   "source": [
    "Then at each integration point we need to build the stiffness matrix from the Jacobian, the strain-displacement matrix, and the elasticity matrix:\n",
    "\n",
    "$$\n",
    "\\mathbf{K}^e(\\xi_i, \\eta_i) = {\\mathbf{B}^e}^T(\\xi_i, \\eta_i)) \\mathbf{C} \\mathbf{B}^e(\\xi_i, \\eta_i) \\det(\\mathbf{J}^e(\\xi_i, \\eta_i)\n",
    "$$"
   ]
  },
  {
   "cell_type": "code",
   "execution_count": null,
   "metadata": {},
   "outputs": [],
   "source": [
    "def keval(real_coords, Ce):\n",
    "    ..."
   ]
  },
  {
   "cell_type": "code",
   "execution_count": null,
   "metadata": {},
   "outputs": [],
   "source": [
    "# HINT\n",
    "# grader.hint2biii()"
   ]
  },
  {
   "cell_type": "markdown",
   "metadata": {},
   "source": [
    "These should then be assembled into the elemental stiffness matrix:\n",
    "\n",
    "$$\n",
    "\\mathbf{K}^e = \\sum_i \\sum_j \\mathbf{K}(\\xi_i, \\eta_j)\n",
    "$$"
   ]
  },
  {
   "cell_type": "code",
   "execution_count": null,
   "metadata": {},
   "outputs": [],
   "source": [
    "# YOUR CODE HERE\n",
    "#Boundary conditions\n",
    "coords = ...\n",
    "\n",
    "# Calculate element stiffness matrix\n",
    "C = ...\n",
    "ke = ...\n",
    "\n",
    "# Remove components of the stiffness matrix that correspond to zero DOFs\n",
    "\n",
    "print(ke)"
   ]
  },
  {
   "cell_type": "code",
   "execution_count": null,
   "metadata": {},
   "outputs": [],
   "source": [
    "# HINT\n",
    "grader.check2biii(ke)"
   ]
  },
  {
   "cell_type": "markdown",
   "metadata": {},
   "source": [
    "Almost there! Now we add the external loads into the nodal force vector:\n",
    "\n",
    "$$\n",
    "\\mathbf{f}^e = \\int_{\\Gamma_{14}}{\\mathbf{N}^e}^T \\bar{\\mathbf{t}} \\, \\text{d}\\Gamma\n",
    "$$"
   ]
  },
  {
   "cell_type": "code",
   "execution_count": null,
   "metadata": {},
   "outputs": [],
   "source": [
    "# Applied loads - define the RHS load vector \n",
    "fext_top = ...\n",
    "\n",
    "# create RHS vector\n",
    "f_e = ..."
   ]
  },
  {
   "cell_type": "code",
   "execution_count": null,
   "metadata": {},
   "outputs": [],
   "source": [
    "# HINT\n",
    "# grader.hint2biv()\n",
    "grader.check2biv(f_e)"
   ]
  },
  {
   "cell_type": "markdown",
   "metadata": {},
   "source": [
    "### Solution\n",
    "\n",
    "Now we need to reduce the overall system of equations and solve for the displacements."
   ]
  },
  {
   "cell_type": "code",
   "execution_count": null,
   "metadata": {
    "scrolled": true
   },
   "outputs": [],
   "source": [
    "# Calculate non-zero nodal displacements\n",
    "ue = ...\n",
    "\n",
    "# Create the global nodal displacement vector \n",
    "d_e = ...\n",
    "print(d_e)"
   ]
  },
  {
   "cell_type": "code",
   "execution_count": null,
   "metadata": {},
   "outputs": [],
   "source": [
    "# HINT\n",
    "# grader.hint2ci()\n",
    "grader.check2ci(d_e)"
   ]
  },
  {
   "cell_type": "code",
   "execution_count": null,
   "metadata": {},
   "outputs": [],
   "source": [
    "# Plot element deformation (nodal displacements)\n",
    "sdef=10000\n",
    "\n",
    "plt.plot(coords[:, 0],\n",
    "         coords[:, 1], 'sk')\n",
    "plt.plot(coords[:, 0] + sdef*d_e[0:2*len(coords)-1:2],\n",
    "         coords[:, 1] + sdef*d_e[1:2*len(coords):2], 'or')\n",
    "\n",
    "for i in range(len(coords)):\n",
    "    plt.fill(coords[:, 0],\n",
    "             coords[:, 1], edgecolor='k', fill=False)\n",
    "    plt.fill(coords[:, 0] + sdef*d_e[0:2*len(coords)-1:2],\n",
    "             coords[:, 1] + sdef*d_e[1:2*len(coords):2], edgecolor='r', fill=False)\n",
    "plt.show()"
   ]
  },
  {
   "cell_type": "markdown",
   "metadata": {},
   "source": [
    "We can then solve for the strains at the four Gauss points:\n",
    "$$\n",
    "\\varepsilon^e(\\xi_i, \\eta_j) = \\mathbf{B}^e(\\xi_i, \\eta_j) \\mathbf{d}^e = [\\varepsilon^e_{11}, \\varepsilon^e_{22}, \\gamma^e_{12}]^T\n",
    "$$"
   ]
  },
  {
   "cell_type": "code",
   "execution_count": null,
   "metadata": {},
   "outputs": [],
   "source": [
    "# YOUR CODE HERE\n",
    "\n",
    "def strains(real_coords, de):\n",
    "    ...\n",
    "        \n",
    "strain_vals = ...\n",
    "print(strain_vals)"
   ]
  },
  {
   "cell_type": "code",
   "execution_count": null,
   "metadata": {},
   "outputs": [],
   "source": [
    "# HINT\n",
    "# grader.hint2cii()\n",
    "grader.check2cii(strain_vals)"
   ]
  },
  {
   "cell_type": "markdown",
   "metadata": {},
   "source": [
    "And similarly the stresses:\n",
    "\n",
    "$$\n",
    "\\sigma^e(\\xi_i, \\eta_j) = \\mathbf{C}\\varepsilon^e(\\xi_i, \\eta_j) = [\\sigma^e_{11}, \\sigma^e_{22}, \\sigma^e_{12}]^T\n",
    "$$\n",
    "\n",
    "Return the *sum* of stresses over the Gauss points."
   ]
  },
  {
   "cell_type": "code",
   "execution_count": null,
   "metadata": {},
   "outputs": [],
   "source": [
    "def sigma_vector(coords,C,de):\n",
    "    ...\n",
    "\n",
    "sigma = sigma_vector(coords,C,d_e)\n",
    "\n",
    "print(sigma)"
   ]
  },
  {
   "cell_type": "code",
   "execution_count": null,
   "metadata": {},
   "outputs": [],
   "source": [
    "# HINT\n",
    "# grader.hint2ciii()\n",
    "grader.check2ciii(sigma)"
   ]
  },
  {
   "cell_type": "markdown",
   "metadata": {},
   "source": [
    "And that completes the solution to the FE problem!"
   ]
  },
  {
   "cell_type": "markdown",
   "metadata": {},
   "source": [
    "# Results\n",
    "\n",
    "Run the box below to check your progress."
   ]
  },
  {
   "cell_type": "code",
   "execution_count": null,
   "metadata": {},
   "outputs": [],
   "source": [
    "grader.results()"
   ]
  }
 ],
 "metadata": {
  "kernelspec": {
   "display_name": "Python 3",
   "language": "python",
   "name": "python3"
  },
  "language_info": {
   "codemirror_mode": {
    "name": "ipython",
    "version": 3
   },
   "file_extension": ".py",
   "mimetype": "text/x-python",
   "name": "python",
   "nbconvert_exporter": "python",
   "pygments_lexer": "ipython3",
   "version": "3.10.6"
  },
  "toc": {
   "base_numbering": 1,
   "nav_menu": {},
   "number_sections": true,
   "sideBar": true,
   "skip_h1_title": false,
   "title_cell": "Table of Contents",
   "title_sidebar": "Contents",
   "toc_cell": false,
   "toc_position": {},
   "toc_section_display": true,
   "toc_window_display": false
  }
 },
 "nbformat": 4,
 "nbformat_minor": 4
}
