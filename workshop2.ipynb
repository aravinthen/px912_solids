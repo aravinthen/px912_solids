{
 "cells": [
  {
   "cell_type": "markdown",
   "metadata": {},
   "source": [
    "# PX912: Solid Mechanics - Workshop 2"
   ]
  },
  {
   "cell_type": "markdown",
   "metadata": {},
   "source": [
    "These workshops are not marked, but they should help you to better understand theoretical aspects presented in the lectures, which should help you prepare for the PX912 viva, and practice solutions with Python coding. The latter will also be used in your coursework project. "
   ]
  },
  {
   "cell_type": "markdown",
   "metadata": {},
   "source": [
    "### Please run the cell below!\n",
    "This cell loads the core library written for this module. The core library contains hints, solution checking and grading. \n",
    "\n",
    "Make sure that the output of the previous cell is $\\texttt{Library Loaded!}$. "
   ]
  },
  {
   "cell_type": "code",
   "execution_count": null,
   "metadata": {},
   "outputs": [],
   "source": [
    "import sys, os\n",
    "sys.path.insert(0, os.getcwd()+'grader')\n",
    "from grader import workshop2 as ws2\n",
    "from grader import practice\n",
    "\n",
    "grader = ws2.Workshop2()"
   ]
  },
  {
   "cell_type": "markdown",
   "metadata": {},
   "source": [
    "Last week's workshop was primarily about kinematics including concepts of *deformation gradient tensor* and *strains*.\n",
    "\n",
    "This week we will look at *stresses* and *governing equations* that are used to formulate problems in solid mechanics. \n",
    "\n",
    "We will use SymPy for the majority of questions in this workshop. If you need a refresher, take a look back at the examples from last week.\n",
    "\n",
    "As before, let's first import the modules we need:"
   ]
  },
  {
   "cell_type": "code",
   "execution_count": null,
   "metadata": {},
   "outputs": [],
   "source": [
    "# SymPy Library: Symbolic Python\n",
    "import sympy as sym\n",
    "\n",
    "# Tell sympy to print things nicely\n",
    "sym.init_printing()\n",
    "\n",
    "# Matplotlib for plotting\n",
    "import matplotlib.pyplot as plt"
   ]
  },
  {
   "cell_type": "markdown",
   "metadata": {},
   "source": [
    "## Question 1\n",
    "We consider a cube stretched biaxially (along two of its axes) along $\\mathbf{e}_1$, $\\mathbf{e}_2$ with corresponding internal tractions $T_1, T_2$.\n",
    "### a)\n",
    "\n",
    "Find the corresponding stress tensor in matrix form, $\\sigma_{ij}$:\n",
    "\n",
    "\n"
   ]
  },
  {
   "cell_type": "code",
   "execution_count": null,
   "metadata": {},
   "outputs": [],
   "source": [
    "# Solution:\n",
    "T_1, T_2 = sym.symbols('T_1 T_2')\n",
    "\n",
    "# Construct the sigma matrix\n",
    "sigma = ...\n",
    "\n",
    "# Display it\n",
    "sigma"
   ]
  },
  {
   "cell_type": "code",
   "execution_count": null,
   "metadata": {},
   "outputs": [],
   "source": [
    "# HINTS AND SOLUTION\n",
    "# grader.hint1a()\n",
    "grader.check1a(sigma)"
   ]
  },
  {
   "cell_type": "markdown",
   "metadata": {},
   "source": [
    "### b)\n",
    "\n",
    "What is the form of the stress tensor under equi-biaxial extension?"
   ]
  },
  {
   "cell_type": "code",
   "execution_count": null,
   "metadata": {},
   "outputs": [],
   "source": [
    "# Equi-biaxial means T_1 = T_2 = T\n",
    "T = sym.symbols('T')\n",
    "\n",
    "# Construct the sigma matrix\n",
    "sigma_equi = ...\n",
    "\n",
    "# Display it\n",
    "sigma_equi"
   ]
  },
  {
   "cell_type": "code",
   "execution_count": null,
   "metadata": {},
   "outputs": [],
   "source": [
    "# HINTS AND SOLUTION\n",
    "# grader.hint1a()\n",
    "grader.check1b(sigma_equi)"
   ]
  },
  {
   "cell_type": "markdown",
   "metadata": {},
   "source": [
    "## Question 2\n",
    "\n",
    "Consider a body $B$ with constant density $\\rho > 0$ subject to a constant body force per unit volume $\\mathbf{b} = [0, 0, −\\rho g]$ . Suppose the Cauchy stress field in $B$ is given by\n",
    "\n",
    "$$\n",
    "\\mathbf{\\sigma} =\n",
    "\\begin{bmatrix}\n",
    "x_2 & x_3 &  0 \\\\\n",
    "x_3 & x_1 &  0 \\\\\n",
    "0   &   0 & \\rho g x_3\n",
    "\\end{bmatrix}\n",
    "$$\n",
    "\n",
    "Show that $\\mathbf{b}$ and $\\sigma$ are consistent with the local equillibrium equations."
   ]
  },
  {
   "cell_type": "markdown",
   "metadata": {},
   "source": [
    "First, let's define a function to compute the divergence of a matrix, as define in the notes:"
   ]
  },
  {
   "cell_type": "code",
   "execution_count": null,
   "metadata": {},
   "outputs": [],
   "source": [
    "rho, g, x_1, x_2, x_3 = sym.symbols('rho g x_1 x_2 x_3')\n",
    "def tensor_divergence(sigma):\n",
    "    result = sym.Matrix([0,0,0])    \n",
    "    # your code here!\n",
    "    \n",
    "    return result"
   ]
  },
  {
   "cell_type": "markdown",
   "metadata": {},
   "source": [
    "Then let's use this function to evaluate our equillibrium expression:"
   ]
  },
  {
   "cell_type": "code",
   "execution_count": null,
   "metadata": {},
   "outputs": [],
   "source": [
    "rho, g, x_1, x_2, x_3 = sym.symbols('rho g x_1 x_2 x_3')\n",
    "\n",
    "b = ...\n",
    "sigma = ...\n",
    "div_sigma = ...\n",
    "\n",
    "div_sigma + b"
   ]
  },
  {
   "cell_type": "code",
   "execution_count": null,
   "metadata": {},
   "outputs": [],
   "source": [
    "# HINTS AND SOLUTION\n",
    "# grader.hint2()\n",
    "grader.check2(div_sigma, b)"
   ]
  },
  {
   "cell_type": "markdown",
   "metadata": {},
   "source": [
    "## Question 3\n",
    "\n",
    "We consider a 2D deformation given by \n",
    "\\begin{aligned}\n",
    "x_1 &= 1.0005 X_1 + 0.001 X_2\\\\\n",
    "x_2 &= 1.0002 X_2\\\\\n",
    "\\end{aligned}\n",
    "\n",
    "We limit our analysis to the 'small strain' case, and assume that the linear description of elasticity holds.\n",
    "\n",
    "To answer this question, you'll need three functions:\n",
    "1. The infinitesimal strain matrix that you've hopefully coded in the previous workshop.\n",
    "2. The plane strain matrix condition matrix.\n",
    "3. The plain stress condition matrix."
   ]
  },
  {
   "cell_type": "markdown",
   "metadata": {},
   "source": [
    "### a)\n",
    "Evaluate the strain matrix (in Voigt notation)"
   ]
  },
  {
   "cell_type": "code",
   "execution_count": null,
   "metadata": {},
   "outputs": [],
   "source": [
    "from grader import tools\n",
    "\n",
    "# Define symbols\n",
    "X_1, X_2 = sym.symbols('X_1 X_2')\n",
    "\n",
    "# Define the deformation\n",
    "x_1 = ...\n",
    "x_2 = ...\n",
    "\n",
    "# Wrap it up as a vector\n",
    "phi = ...\n",
    "\n",
    "# Compute the infinitesimal strain matrix\n",
    "eps = ...\n",
    "\n",
    "voigt_eps = ...\n",
    "\n",
    "voigt_eps"
   ]
  },
  {
   "cell_type": "code",
   "execution_count": null,
   "metadata": {},
   "outputs": [],
   "source": [
    "# HINTS AND SOLUTION\n",
    "# grader.hint3a()\n",
    "grader.check3a(voigt_eps)"
   ]
  },
  {
   "cell_type": "markdown",
   "metadata": {},
   "source": [
    "### b)\n",
    "\n",
    "Compute stresses under both plane strain and plane stress conditions assuming isotropic elasticity defined by two elastic constants: the Young modulus $E =4$GPa and Poisson’s ratio $\\nu = 0.35$.\n",
    "\n",
    "Here, you'll need to use the definitions of the **plane strain matrix** and the **plane stress matrix** in Voigt notation. They're simple enough to simply write out by hand, but you can write a function to do this. "
   ]
  },
  {
   "cell_type": "code",
   "execution_count": null,
   "metadata": {},
   "outputs": [],
   "source": [
    "def plane_strain(E, nu):\n",
    "    C_pe = ...\n",
    "    \n",
    "    return C_pe\n",
    "\n",
    "\n",
    "def plane_stress(E, nu):\n",
    "    C_ps = ...\n",
    "    \n",
    "    return C_ps"
   ]
  },
  {
   "cell_type": "code",
   "execution_count": null,
   "metadata": {},
   "outputs": [],
   "source": [
    "E = 4.0E9\n",
    "nu = 0.35\n",
    "\n",
    "# Plane strain\n",
    "C_pe = plane_strain(E, nu)\n",
    "stresses_pe =  ...\n",
    "stresses_pe"
   ]
  },
  {
   "cell_type": "code",
   "execution_count": null,
   "metadata": {},
   "outputs": [],
   "source": [
    "E = 4.0E9\n",
    "nu = 0.35\n",
    "\n",
    "# Plane stresses\n",
    "C_ps = plane_stress(E, nu)\n",
    "stresses_ps = ...\n",
    "stresses_ps"
   ]
  },
  {
   "cell_type": "code",
   "execution_count": null,
   "metadata": {},
   "outputs": [],
   "source": [
    "# HINTS AND SOLUTION\n",
    "# grader.hint3b()\n",
    "grader.check3b(stresses_pe, stresses_ps)"
   ]
  },
  {
   "cell_type": "markdown",
   "metadata": {},
   "source": [
    "## Question 4 🌶️"
   ]
  },
  {
   "cell_type": "markdown",
   "metadata": {},
   "source": [
    "In this question, we're going to derive a continuum equation of motion from first principles. This is a more involved question than the others, but it is interesting. *This question will not be examined, so feel free to skip it*.\n",
    "\n",
    "The question is mathematically very simple, so don't let a lack of familiarity with tensor calculus get in your way.\n",
    "\n",
    "Your task is to set up a system of ODEs and solve them using SymPy. However, if you want to do this by hand, feel free: just input your answer in the solution cell in **SymPy notation**.\n",
    "\n",
    "Newton's second law is usually stated in the form\n",
    "\n",
    "$$\n",
    "m\\mathbf{a} = \\mathbf{F}.\n",
    "$$\n",
    "\n",
    "In the framework of continuum mechanics, this is replaced by the linear momentum balance law:\n",
    "\n",
    "$$\n",
    "\\rho \\frac{\\text{D}\\mathbf{v}}{\\text{D}t} = \\nabla \\cdot \\mathbf{\\sigma} + \\rho \\mathbf{b}\n",
    "$$\n",
    "\n",
    "In this question, we're going to construct the equations of motion for a very simple system."
   ]
  },
  {
   "cell_type": "code",
   "execution_count": null,
   "metadata": {},
   "outputs": [],
   "source": [
    "# derive the symbols we need\n",
    "t = sym.symbols('t')\n",
    "X = sym.Function('X')(t)\n",
    "Y = sym.Function('Y')(t)\n",
    "Z = sym.Function('Z')(t)"
   ]
  },
  {
   "cell_type": "markdown",
   "metadata": {},
   "source": [
    "### a)\n",
    "The left hand side of the equation is the material derivative. It is essentially a derivative that follows the motion of a particle that you track. In order to calculate it, you need to obtain the velocity associated with a deformation field, which is given by the formula\n",
    "\n",
    "$$\n",
    "\\frac{\\partial \\mathbf{\\varphi}(\\mathbf{X}(t), t)}{\\partial t}\n",
    "$$\n",
    "\n",
    "Find the velocity field of the deformation described by\n",
    "$$\n",
    "\\begin{gather*}\n",
    "x_1 = 4 X\\\\\n",
    "x_2 = Y\\\\\n",
    "x_3 = Z\n",
    "\\end{gather*}\n",
    "$$\n",
    "\n",
    "Note: we use $X$, $Y$ and $Z$ instead of $X_1$, $X_2$ and $X_3$ to keep the syntax compatible with `SymPy`."
   ]
  },
  {
   "cell_type": "code",
   "execution_count": null,
   "metadata": {},
   "outputs": [],
   "source": [
    "v1 = ...\n",
    "v2 = ...\n",
    "v3 = ...\n",
    "v1, v2, v3"
   ]
  },
  {
   "cell_type": "code",
   "execution_count": null,
   "metadata": {},
   "outputs": [],
   "source": [
    "# grader.hint4a()\n",
    "grader.check4a(v1, v2, v3)"
   ]
  },
  {
   "cell_type": "markdown",
   "metadata": {},
   "source": [
    "### b)\n",
    "The material derivative itself is a little more complicated than a normal time derivative: in addition to how the field varies with time, you need to know how it varies spatially. \n",
    "\n",
    "$$\n",
    "\\frac{\\text{D}\\mathbf{v}}{\\text{D}t} = \\frac{\\partial \\mathbf{v}}{\\partial t} + (\\nabla \\mathbf{v}) \\mathbf{v}\n",
    "$$\n",
    "\n",
    "Calculate the material derivative for the velocity field of the previous part. The answer will be quite simple."
   ]
  },
  {
   "cell_type": "code",
   "execution_count": null,
   "metadata": {},
   "outputs": [],
   "source": [
    "a1 = ...\n",
    "a2 = ...\n",
    "a3 = ...\n",
    "\n",
    "a1, a2, a3"
   ]
  },
  {
   "cell_type": "code",
   "execution_count": null,
   "metadata": {},
   "outputs": [],
   "source": [
    "# grader.hint4b()\n",
    "grader.check4b(a1, a2, a3)"
   ]
  },
  {
   "cell_type": "markdown",
   "metadata": {},
   "source": [
    "### c)\n",
    "\n",
    "Given the following tractions, build the Cauchy stress field and calculate $\\nabla \\cdot \\mathbf{\\sigma}$. \n",
    "$$\n",
    "\\begin{gather*}\n",
    "T_1 = 5 \\mathbf{e}_1\\\\\n",
    "T_2 = 5X_2^2 \\mathbf{e}_2\\\\\n",
    "T_3 = -9X_3^2 \\mathbf{e}_3\n",
    "\\end{gather*}\n",
    "$$"
   ]
  },
  {
   "cell_type": "code",
   "execution_count": null,
   "metadata": {},
   "outputs": [],
   "source": [
    "def tensor_divergence(sigma):\n",
    "    # Make a change to your original tensor divergence function.\n",
    "    result = sym.Matrix([0,0,0])\n",
    "    return result\n",
    "\n",
    "# Construct the sigma matrix\n",
    "sigma = ...\n",
    "\n",
    "divt = tensor_divergence(sigma)\n",
    "divt"
   ]
  },
  {
   "cell_type": "code",
   "execution_count": null,
   "metadata": {},
   "outputs": [],
   "source": [
    "# grader.hint4c()\n",
    "grader.check4c(divt)"
   ]
  },
  {
   "cell_type": "markdown",
   "metadata": {},
   "source": [
    "### d) \n",
    "We're going to do something interesting with the body force and set it to be a damping force. Let \n",
    "\n",
    "$$\n",
    "\\mathbf{b} = -\\left[ \\begin{matrix} \\dot{x} \\\\ 2\\dot{y} \\\\ 5\\dot{z} \\end{matrix} \\right]\n",
    "$$\n",
    "\n",
    "Now that you have all the components of the momentum balance law, derive the differential equations governing the motion of a single point. You should have three differential equations, each representing the motion of one coordinate of $(x, y, z)$. Like before, $\\rho=1$."
   ]
  },
  {
   "cell_type": "code",
   "execution_count": null,
   "metadata": {},
   "outputs": [],
   "source": [
    "b = ...\n",
    "\n",
    "# If you're using SymPy, note that you don't explicitly need to set any of these equations to 0.\n",
    "# This is the default setting when using the ODE solver.\n",
    "funx = ...\n",
    "funy = ...\n",
    "funz = ...\n"
   ]
  },
  {
   "cell_type": "code",
   "execution_count": null,
   "metadata": {},
   "outputs": [],
   "source": [
    "# grader.hint4d()\n",
    "grader.check4d(funx, funy, funz)"
   ]
  },
  {
   "cell_type": "code",
   "execution_count": null,
   "metadata": {},
   "outputs": [],
   "source": [
    "funx"
   ]
  },
  {
   "cell_type": "code",
   "execution_count": null,
   "metadata": {},
   "outputs": [],
   "source": [
    "funy"
   ]
  },
  {
   "cell_type": "code",
   "execution_count": null,
   "metadata": {},
   "outputs": [],
   "source": [
    "funz"
   ]
  },
  {
   "cell_type": "markdown",
   "metadata": {},
   "source": [
    "Now, use SymPy to solve your differential equations. You can do this using the `dsolve` function included in `SymPy`, which is provided for you in the cells below. Of course, you can also solve them by hand!"
   ]
  },
  {
   "cell_type": "code",
   "execution_count": null,
   "metadata": {},
   "outputs": [],
   "source": [
    "sym.dsolve(funx)"
   ]
  },
  {
   "cell_type": "code",
   "execution_count": null,
   "metadata": {},
   "outputs": [],
   "source": [
    "sym.dsolve(funy)"
   ]
  },
  {
   "cell_type": "code",
   "execution_count": null,
   "metadata": {},
   "outputs": [],
   "source": [
    "sym.dsolve(funz)"
   ]
  },
  {
   "cell_type": "markdown",
   "metadata": {},
   "source": [
    "There are of course some constants that will show up in your answer. These can be solved by setting initial conditions for the deformation and velocity fields."
   ]
  },
  {
   "cell_type": "markdown",
   "metadata": {},
   "source": [
    "## Results\n",
    "\n",
    "Run the box below to check your progress."
   ]
  },
  {
   "cell_type": "code",
   "execution_count": null,
   "metadata": {},
   "outputs": [],
   "source": [
    "grader.results()"
   ]
  }
 ],
 "metadata": {
  "kernelspec": {
   "display_name": "Python 3 (ipykernel)",
   "language": "python",
   "name": "python3"
  },
  "language_info": {
   "codemirror_mode": {
    "name": "ipython",
    "version": 3
   },
   "file_extension": ".py",
   "mimetype": "text/x-python",
   "name": "python",
   "nbconvert_exporter": "python",
   "pygments_lexer": "ipython3",
   "version": "3.10.9"
  },
  "toc": {
   "base_numbering": 1,
   "nav_menu": {},
   "number_sections": true,
   "sideBar": true,
   "skip_h1_title": false,
   "title_cell": "Table of Contents",
   "title_sidebar": "Contents",
   "toc_cell": false,
   "toc_position": {},
   "toc_section_display": true,
   "toc_window_display": false
  }
 },
 "nbformat": 4,
 "nbformat_minor": 4
}
