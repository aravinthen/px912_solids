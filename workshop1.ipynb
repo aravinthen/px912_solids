{
 "cells": [
  {
   "cell_type": "markdown",
   "metadata": {},
   "source": [
    "# PX912: Solid Mechanics"
   ]
  },
  {
   "cell_type": "markdown",
   "metadata": {},
   "source": [
    "### Please run the cell below!\n",
    "This cell loads the core library written for this module. The core library contains hints, solution checking and grading. These workshops are not marked, but all of the code that you develop will be required for the final project. As such, it is imperative that the code you produce *works*!\n",
    "\n",
    "Make sure that the output of the previous cell is $\\texttt{Library Loaded!}$. "
   ]
  },
  {
   "cell_type": "code",
   "execution_count": null,
   "metadata": {},
   "outputs": [],
   "source": [
    "import sys, os\n",
    "sys.path.insert(0, os.getcwd()+'grader')\n",
    "from grader import workshop1 as ws1\n",
    "grader = ws1.Workshop1()"
   ]
  },
  {
   "cell_type": "markdown",
   "metadata": {},
   "source": [
    "### How to use the `grader` library\n",
    "**Read this section carefully!**\n",
    "\n",
    "Every question has a hint provided, as well as a solution check. To receive a hint for, say, Question 1a, find the cell containing a function named\n",
    "```\n",
    "grader.hint1a()\n",
    "```\n",
    "Uncomment it, then run the notebook.\n",
    "\n",
    "If you would like to check your solution for Question 1a, find the cell containing a function named\n",
    "```\n",
    "grader.check1a([SOLUTION VARIABLE])\n",
    "```\n",
    "Replace `[SOLUTION VARIABLE]` with the variable containing your answer. For example, for Question 1a: if you have named your answer variable F_a, simply run:\n",
    "```\n",
    "grader.check1a(F_a).\n",
    "```\n",
    "Variable names are suggested for each question, but feel free to choose your own."
   ]
  },
  {
   "cell_type": "markdown",
   "metadata": {},
   "source": [
    "## Workshop 1\n",
    "\n",
    "This workshop is all about understanding the mathematical description of deformations. We will consider and visualise a number of different deformations, calculate their deformation gradient, and also consider the infinitesimal strain tensor, $\\varepsilon_{ij}$."
   ]
  },
  {
   "cell_type": "markdown",
   "metadata": {},
   "source": [
    "First, we will import the sympy module for our symbolic manipulations. This workshop could comfortably be done by hand, but it is important to realise that there are packages available for doing symbolic manipulations (Mathematica being particularly famous). Computers tend not to get tired or make mistakes with tedious manipulations!\n",
    "\n",
    "First, let's import some modules:"
   ]
  },
  {
   "cell_type": "code",
   "execution_count": null,
   "metadata": {},
   "outputs": [],
   "source": [
    "# SymPy Library: Symbolic Python\n",
    "import sympy as sym\n",
    "\n",
    "# Matplotlib for plotting\n",
    "import matplotlib.pyplot as plt"
   ]
  },
  {
   "cell_type": "markdown",
   "metadata": {},
   "source": [
    "## SymPy Examples\n",
    "\n",
    "Here's a quick example of how to setup some symbolic calculations using SymPy.\n",
    "\n",
    "First, we define variables:"
   ]
  },
  {
   "cell_type": "code",
   "execution_count": null,
   "metadata": {},
   "outputs": [],
   "source": [
    "x, y, z = sym.symbols('x y z')"
   ]
  },
  {
   "cell_type": "markdown",
   "metadata": {},
   "source": [
    "Now we can construct expressions:"
   ]
  },
  {
   "cell_type": "code",
   "execution_count": null,
   "metadata": {},
   "outputs": [],
   "source": [
    "function = x*y + sym.exp(z)\n",
    "function"
   ]
  },
  {
   "cell_type": "markdown",
   "metadata": {},
   "source": [
    "We can then perform operations on these expressions. For example, differentiation:"
   ]
  },
  {
   "cell_type": "code",
   "execution_count": null,
   "metadata": {},
   "outputs": [],
   "source": [
    "# With respect to x\n",
    "function.diff(x)"
   ]
  },
  {
   "cell_type": "code",
   "execution_count": null,
   "metadata": {},
   "outputs": [],
   "source": [
    "# With respect to z\n",
    "function.diff(z)"
   ]
  },
  {
   "cell_type": "code",
   "execution_count": null,
   "metadata": {},
   "outputs": [],
   "source": [
    "# With respect to both x and y\n",
    "function.diff(x,y)"
   ]
  },
  {
   "cell_type": "markdown",
   "metadata": {},
   "source": [
    "One can also construct matrices:"
   ]
  },
  {
   "cell_type": "code",
   "execution_count": null,
   "metadata": {},
   "outputs": [],
   "source": [
    "M = sym.Matrix([[x, y],\n",
    "            [function, 0]])\n",
    "M"
   ]
  },
  {
   "cell_type": "markdown",
   "metadata": {},
   "source": [
    "And perform operations on them:"
   ]
  },
  {
   "cell_type": "code",
   "execution_count": null,
   "metadata": {},
   "outputs": [],
   "source": [
    "2*M # scalar multiplication"
   ]
  },
  {
   "cell_type": "code",
   "execution_count": null,
   "metadata": {},
   "outputs": [],
   "source": [
    "M**2 # squaring a matrix: much easier than by hand!"
   ]
  },
  {
   "cell_type": "code",
   "execution_count": null,
   "metadata": {},
   "outputs": [],
   "source": [
    "N = sym.Matrix([[x, function],\n",
    "                [y, x]])\n",
    "\n",
    "M*N # more generally, matrix multiplication"
   ]
  },
  {
   "cell_type": "markdown",
   "metadata": {},
   "source": [
    "**Note**: you are still constrained by the rules of linear algebra. The code below will raise an error if you run it without exception handling."
   ]
  },
  {
   "cell_type": "code",
   "execution_count": null,
   "metadata": {},
   "outputs": [],
   "source": [
    "O = sym.Matrix([[x, function, 0],\n",
    "                [y, x, 1],\n",
    "                [sym.exp(z), y, 1]])\n",
    "try:\n",
    "    O*M\n",
    "except:\n",
    "    print(\"Make sure your matrices are of the correct shape.\")\n",
    "    print(\"O is a 3x3 matrix. M is a 2x2 matrix. These cannot be multiplied!\")\n",
    "    print(\"Sympy is powerful, but with great power comes great responsibility.\")"
   ]
  },
  {
   "cell_type": "markdown",
   "metadata": {},
   "source": [
    "## Questions\n",
    "\n",
    "Okay, now we've seen some SymPy we should be able to get cracking with the questions. For this workshop we will complete questions 1, 2 and 3 from Chapter 2 of the notes."
   ]
  },
  {
   "cell_type": "markdown",
   "metadata": {},
   "source": [
    "Now we will define our three variables:"
   ]
  },
  {
   "cell_type": "code",
   "execution_count": null,
   "metadata": {},
   "outputs": [],
   "source": [
    "X_1, X_2, X_3 = sym.symbols('X_1 X_2 X_3')"
   ]
  },
  {
   "cell_type": "markdown",
   "metadata": {},
   "source": [
    "Next, we will implement a function to compute the deformation gradients\n",
    "\n",
    "Recall the definition,\n",
    "\\begin{aligned}\n",
    "\\mathbf{F} =& \\nabla \\varphi \\\\\n",
    "=& \\frac{\\partial \\mathbf{x}}{\\partial \\mathbf{X}}\n",
    "\\end{aligned}"
   ]
  },
  {
   "cell_type": "code",
   "execution_count": null,
   "metadata": {},
   "outputs": [],
   "source": [
    "from sympy.matrices import Matrix, eye, zeros, ones, diag, MatMul"
   ]
  },
  {
   "cell_type": "code",
   "execution_count": null,
   "metadata": {},
   "outputs": [],
   "source": [
    "def deformation_gradient(phi, variables):\n",
    "    \n",
    "    # Set up an empty matrix\n",
    "    F = Matrix.zeros(len(variables))\n",
    "    \n",
    "    # Loop over transformed coordinates\n",
    "    for i, x_i in enumerate(phi):\n",
    "        # Loop over base coordinates\n",
    "        for j, X_j in enumerate(variables):\n",
    "    \n",
    "            # Compute relevant derivative\n",
    "            F[i,j] = sym.diff(x_i, X_j)\n",
    "    \n",
    "    return F"
   ]
  },
  {
   "cell_type": "markdown",
   "metadata": {},
   "source": [
    "## Question 1 \n",
    "For each deformation $\\mathbf{x} = \\mathbf{\\varphi}(\\mathbf{X})$ given below, find the components of the deformation gradient $\\mathbf{F}$ and determine if $\\mathbf{\\varphi}$ is homogeneous or non-homogeneous."
   ]
  },
  {
   "cell_type": "markdown",
   "metadata": {},
   "source": [
    "### a)\n",
    "Here, $\\mathbf{\\varphi}$ is defined such that\n",
    "$$\n",
    "\\begin{gather*}\n",
    "x_1 = X_1 \\\\\n",
    "x_2 = X_2 X_3 \\\\\n",
    "x_3 = X_3 - 1\n",
    "\\end{gather*}\n",
    "$$"
   ]
  },
  {
   "cell_type": "code",
   "execution_count": null,
   "metadata": {},
   "outputs": [],
   "source": [
    "phi_a = ..."
   ]
  },
  {
   "cell_type": "code",
   "execution_count": null,
   "metadata": {
    "scrolled": true
   },
   "outputs": [],
   "source": [
    "F_a = ..."
   ]
  },
  {
   "cell_type": "code",
   "execution_count": null,
   "metadata": {},
   "outputs": [],
   "source": [
    "# HINTS AND SOLUTION\n",
    "# grader.hint1a()\n",
    "grader.check1a(F_a)"
   ]
  },
  {
   "cell_type": "markdown",
   "metadata": {},
   "source": [
    "### b)\n",
    "This time, $\\mathbf{\\varphi}$ is defined such that\n",
    "$$\n",
    "\\begin{gather*}\n",
    "x_1 = 2X_2-1 \\\\\n",
    "x_2 = X_3 \\\\ \n",
    "x_3 = 3 + 5X_1\n",
    "\\end{gather*}\n",
    "$$"
   ]
  },
  {
   "cell_type": "code",
   "execution_count": null,
   "metadata": {},
   "outputs": [],
   "source": [
    "phi_b = ..."
   ]
  },
  {
   "cell_type": "code",
   "execution_count": null,
   "metadata": {
    "scrolled": true
   },
   "outputs": [],
   "source": [
    "F_b = ..."
   ]
  },
  {
   "cell_type": "code",
   "execution_count": null,
   "metadata": {},
   "outputs": [],
   "source": [
    "# HINTS AND SOLUTION\n",
    "# grader.hint1b()\n",
    "grader.check1b(F_b)"
   ]
  },
  {
   "cell_type": "markdown",
   "metadata": {},
   "source": [
    "### c)\n",
    "Finally, $\\mathbf{\\varphi}$ is defined such that\n",
    "$$\n",
    "\\begin{gather*}\n",
    "x_1 = \\exp(X_1) \\\\\n",
    "x_2 = -X_3 \\\\ \n",
    "x_3 = X_2\n",
    "\\end{gather*}\n",
    "$$"
   ]
  },
  {
   "cell_type": "code",
   "execution_count": null,
   "metadata": {},
   "outputs": [],
   "source": [
    "phi_c = ..."
   ]
  },
  {
   "cell_type": "code",
   "execution_count": null,
   "metadata": {},
   "outputs": [],
   "source": [
    "F_c = ..."
   ]
  },
  {
   "cell_type": "code",
   "execution_count": null,
   "metadata": {},
   "outputs": [],
   "source": [
    "# HINTS AND SOLUTION\n",
    "# grader.hint1c()\n",
    "grader.check1c(F_c)"
   ]
  },
  {
   "cell_type": "markdown",
   "metadata": {},
   "source": [
    "## Question 2\n",
    "\n",
    "This time the deformation is 2D, which means that only two variables are required to sufficiently model it.\n",
    "$$\n",
    "\\begin{gather*}\n",
    "x_1 = \\frac{1}{4}(18 + 4X_1 - 6X_2) \\\\\n",
    "x_2 = \\frac{1}{4}(14 - 6X_2)\n",
    "\\end{gather*}\n",
    "$$"
   ]
  },
  {
   "cell_type": "markdown",
   "metadata": {},
   "source": [
    "a) Evaluate the corresponding deformation gradient $\\mathbf{F}$ tensor."
   ]
  },
  {
   "cell_type": "code",
   "execution_count": null,
   "metadata": {},
   "outputs": [],
   "source": [
    "# how can we represent phi_2?\n",
    "phi_2 = ..."
   ]
  },
  {
   "cell_type": "code",
   "execution_count": null,
   "metadata": {},
   "outputs": [],
   "source": [
    "# deformation gradient here:\n",
    "F_2 = ..."
   ]
  },
  {
   "cell_type": "code",
   "execution_count": null,
   "metadata": {},
   "outputs": [],
   "source": [
    "# HINTS AND SOLUTION\n",
    "# grader.hint2a()\n",
    "grader.check2a(F_2)"
   ]
  },
  {
   "cell_type": "markdown",
   "metadata": {},
   "source": [
    "b) Visualize the deformation for a square of side 2 units initially centred at $\\mathbf{X} = (0, 0)$. Use the deformation gradient to compare it with how the sides of the square transform from the reference to the deformed configuration."
   ]
  },
  {
   "cell_type": "markdown",
   "metadata": {},
   "source": [
    "We define a function to visualise the deformed corners of a square:"
   ]
  },
  {
   "cell_type": "code",
   "execution_count": null,
   "metadata": {},
   "outputs": [],
   "source": [
    "def shape_plot(corners):\n",
    "    \n",
    "    # Get an axes object\n",
    "    plt.axes()\n",
    "    \n",
    "    # Add x and y axis to the plot\n",
    "    plt.vlines(0.0, -8.0, 8.0, color='silver')\n",
    "    plt.hlines(0.0, -8.0, 8.0, color='silver')\n",
    "    \n",
    "    for i in range(len(corners)):\n",
    "        # These points define the start and finish of the line we're drawing\n",
    "        point1 = corners[i-1]\n",
    "        point2 = corners[i]\n",
    "        \n",
    "        # Get a 2D line object\n",
    "        line = plt.Line2D((point1[0], point2[0]), (point1[1], point2[1]), lw=1.5)\n",
    "        \n",
    "        # Add the line to the plot\n",
    "        plt.gca().add_line(line)\n",
    "\n",
    "    # Set the aspect ratio and the x and y limits\n",
    "    plt.axis('square')\n",
    "    plt.axis([-8, 8, -8, 8])\n",
    "    plt.show()"
   ]
  },
  {
   "cell_type": "code",
   "execution_count": null,
   "metadata": {},
   "outputs": [],
   "source": [
    "import matplotlib.pyplot as plt\n",
    "\n",
    "square_corners = [[1.0, 1.0],\n",
    "                  [1.0, -1.0],\n",
    "                  [-1.0,-1.0],\n",
    "                  [-1.0, 1.0]]\n",
    "\n",
    "shape_plot(square_corners)"
   ]
  },
  {
   "cell_type": "markdown",
   "metadata": {},
   "source": [
    "Now, write a function which performs the deformation given in the question."
   ]
  },
  {
   "cell_type": "code",
   "execution_count": null,
   "metadata": {},
   "outputs": [],
   "source": [
    "def deformation_2(point):\n",
    "    ..."
   ]
  },
  {
   "cell_type": "markdown",
   "metadata": {},
   "source": [
    "We can use this function to visualise the deformation:"
   ]
  },
  {
   "cell_type": "code",
   "execution_count": null,
   "metadata": {},
   "outputs": [],
   "source": [
    "deformed_corners = []\n",
    "\n",
    "for el in square_corners:\n",
    "    moved_corner = deformation_2(el)\n",
    "    deformed_corners.append(moved_corner)\n",
    "    \n",
    "shape_plot(deformed_corners)"
   ]
  },
  {
   "cell_type": "code",
   "execution_count": null,
   "metadata": {},
   "outputs": [],
   "source": [
    "# HINTS AND SOLUTION\n",
    "# grader.hint2b()\n",
    "grader.check2b(deformed_corners)"
   ]
  },
  {
   "cell_type": "markdown",
   "metadata": {},
   "source": [
    "c) Predict how the unit vectors $\\mathbf{E}_i$ and $\\mathbf{e}_i$ deform under mapping."
   ]
  },
  {
   "cell_type": "code",
   "execution_count": null,
   "metadata": {},
   "outputs": [],
   "source": [
    "import numpy as np\n",
    "from sympy import MatMul\n",
    "\n",
    "E_1 = [1.0, 0.0]\n",
    "E_2 = [0.0, 1.0]\n",
    "e_1 = [1.0, 0.0]\n",
    "e_2 = [0.0, 1.0]\n",
    "\n",
    "def_E1 = ...\n",
    "def_E2 = ...\n",
    "def_e1 = ...\n",
    "def_e2 = ...\n",
    "print('E_1 deforms to: ', def_E1)\n",
    "print('E_2 deforms to: ', def_E2)\n",
    "print('e_1 deforms to: ', def_e1)\n",
    "print('e_2 deforms to: ', def_e2)"
   ]
  },
  {
   "cell_type": "code",
   "execution_count": null,
   "metadata": {},
   "outputs": [],
   "source": [
    "# HINTS AND SOLUTION\n",
    "# grader.hint2c()\n",
    "grader.check2c(def_e1, def_e2, def_E1, def_E2)"
   ]
  },
  {
   "cell_type": "markdown",
   "metadata": {},
   "source": [
    "## Question 3\n",
    "\n",
    "For a given deformation field,\n",
    "$$\n",
    "\\begin{gather*}\n",
    "x_1 = X_1 + \\alpha X_2 \\\\\n",
    "x_2 = X_2 \\\\\n",
    "x_3 = X_3,\n",
    "\\end{gather*}\n",
    "$$\n",
    "where $\\alpha = 1.5$, create a Jupyter notebook to:"
   ]
  },
  {
   "cell_type": "markdown",
   "metadata": {},
   "source": [
    "a) Calculate the infinitesimal strain tensor in matrix notation."
   ]
  },
  {
   "cell_type": "code",
   "execution_count": null,
   "metadata": {},
   "outputs": [],
   "source": [
    "def infinitesimal_strain(phi, variables):\n",
    "    \n",
    "    F = deformation_gradient(phi, variables)\n",
    "    # YOUR CODE HERE\n",
    "    \n",
    "    return epsilon"
   ]
  },
  {
   "cell_type": "code",
   "execution_count": null,
   "metadata": {},
   "outputs": [],
   "source": [
    "# Define some new symbols\n",
    "alpha, L = sym.symbols('alpha, L')\n",
    "\n",
    "# Define the map from the question\n",
    "phi_3 = ...\n",
    "\n",
    "infinitesimal_strain = ..."
   ]
  },
  {
   "cell_type": "code",
   "execution_count": null,
   "metadata": {},
   "outputs": [],
   "source": [
    "# HINTS AND SOLUTION\n",
    "# grader.hint3a()\n",
    "grader.check3a(infinitesimal_strain)"
   ]
  },
  {
   "cell_type": "markdown",
   "metadata": {},
   "source": [
    "b) Check if the deformation is isochoric."
   ]
  },
  {
   "cell_type": "code",
   "execution_count": null,
   "metadata": {},
   "outputs": [],
   "source": [
    "# fill this in with True or False. Better yet, write a function that returns True or False.\n",
    "isochoric = ... "
   ]
  },
  {
   "cell_type": "code",
   "execution_count": null,
   "metadata": {},
   "outputs": [],
   "source": [
    "# HINTS AND SOLUTION\n",
    "# grader.hint3b()\n",
    "grader.check3b(isochoric)"
   ]
  },
  {
   "cell_type": "markdown",
   "metadata": {},
   "source": [
    "c) Visualise this deformation field. A scatter plot of the vertices is sufficient, but feel free to use more involved code."
   ]
  },
  {
   "cell_type": "code",
   "execution_count": null,
   "metadata": {},
   "outputs": [],
   "source": [
    "# this is a list of points drawing an undeformed cube.\n",
    "cube_corners = [[i, j, k] for i in [0,1] for j in [0,1] for k in [0,1]]\n",
    "\n",
    "fig = plt.figure(figsize=(12, 12))\n",
    "ax = fig.add_subplot(projection='3d')\n",
    "\n",
    "for coord in cube_corners:\n",
    "    ax.scatter(coord[0], coord[1], coord[2], s=50, c='r')\n",
    "    \n",
    "    ## YOUR CODE HERE\n",
    "    \n",
    "plt.show()"
   ]
  },
  {
   "cell_type": "code",
   "execution_count": null,
   "metadata": {},
   "outputs": [],
   "source": [
    "# HINT\n",
    "# grader.hint3c()"
   ]
  },
  {
   "cell_type": "markdown",
   "metadata": {},
   "source": [
    "## Results\n",
    "Run the cell below to check your progress through this workshop."
   ]
  },
  {
   "cell_type": "code",
   "execution_count": null,
   "metadata": {},
   "outputs": [],
   "source": [
    "grader.results()"
   ]
  }
 ],
 "metadata": {
  "kernelspec": {
   "display_name": "Python 3",
   "language": "python",
   "name": "python3"
  },
  "language_info": {
   "codemirror_mode": {
    "name": "ipython",
    "version": 3
   },
   "file_extension": ".py",
   "mimetype": "text/x-python",
   "name": "python",
   "nbconvert_exporter": "python",
   "pygments_lexer": "ipython3",
   "version": "3.10.6"
  }
 },
 "nbformat": 4,
 "nbformat_minor": 4
}
